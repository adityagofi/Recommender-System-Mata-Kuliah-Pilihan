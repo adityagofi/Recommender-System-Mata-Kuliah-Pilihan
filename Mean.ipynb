{
 "cells": [
  {
   "cell_type": "code",
   "execution_count": 6,
   "metadata": {},
   "outputs": [
    {
     "name": "stdout",
     "output_type": "stream",
     "text": [
      "4.0\n"
     ]
    }
   ],
   "source": [
    "print((4+3+5+4)/4)"
   ]
  },
  {
   "cell_type": "code",
   "execution_count": 5,
   "metadata": {},
   "outputs": [
    {
     "name": "stdout",
     "output_type": "stream",
     "text": [
      "0.16708186\n"
     ]
    }
   ],
   "source": [
    "print(0.0637076+0.0943852+0.00252058+0.00646848)"
   ]
  },
  {
   "cell_type": "code",
   "execution_count": 26,
   "metadata": {},
   "outputs": [
    {
     "name": "stdout",
     "output_type": "stream",
     "text": [
      "0.00002331\n"
     ]
    }
   ],
   "source": [
    "import math\n",
    "hasil = (1-(1/(1+math.exp(-abs(4-2)*abs(0.666666667-6)))))\n",
    "print(f\"{hasil:.8f}\")"
   ]
  },
  {
   "cell_type": "code",
   "execution_count": 13,
   "metadata": {},
   "outputs": [
    {
     "name": "stdout",
     "output_type": "stream",
     "text": [
      "Variance: 4.5\n"
     ]
    }
   ],
   "source": [
    "import numpy as np\n",
    "data = [5, 3, 0, 0]\n",
    "variance = sta.var(data)\n",
    "print(\"Variance:\", variance)"
   ]
  },
  {
   "cell_type": "code",
   "execution_count": 31,
   "metadata": {},
   "outputs": [
    {
     "name": "stdout",
     "output_type": "stream",
     "text": [
      "Variance: 4.5\n",
      "Mean: 2\n"
     ]
    }
   ],
   "source": [
    "import numpy as np\n",
    "import statistics as st\n",
    "data = [5, 3, 0, 0]\n",
    "\n",
    "mean = st.mean(data)\n",
    "variance = np.var(data)\n",
    "print(\"Variance:\", variance)\n",
    "print(\"Mean:\", mean)"
   ]
  },
  {
   "cell_type": "code",
   "execution_count": 37,
   "metadata": {},
   "outputs": [
    {
     "data": {
      "text/plain": [
       "0.6666666666666666"
      ]
     },
     "execution_count": 37,
     "metadata": {},
     "output_type": "execute_result"
    }
   ],
   "source": [
    "def variance(data):\n",
    "    n = len(data)\n",
    "    mean = sum(data) / n\n",
    "    deviations = [(x - mean) ** 2 for x in data]\n",
    "    variance = sum(deviations) / (n-1)\n",
    "    return variance\n",
    "\n",
    "variance([4, 3, 5, 4])"
   ]
  },
  {
   "cell_type": "code",
   "execution_count": 38,
   "metadata": {},
   "outputs": [],
   "source": [
    "import pandas as pd\n",
    "df = pd.DataFrame()\n"
   ]
  },
  {
   "cell_type": "code",
   "execution_count": 43,
   "metadata": {},
   "outputs": [
    {
     "name": "stdout",
     "output_type": "stream",
     "text": [
      "          Kolom_1  Kolom_2  Kolom_3  Kolom_4  Kolom_5\n",
      "Baris_1         0        1        2        3        4\n",
      "Baris_2         1        2        3        4        5\n",
      "Baris_3         2        3        4        5        6\n",
      "Baris_4         3        4        5        6        7\n",
      "Baris_5         4        5        6        7        8\n",
      "Baris_6         5        6        7        8        9\n",
      "Baris_7         6        7        8        9       10\n",
      "Baris_8         7        8        9       10       11\n",
      "Baris_9         8        9       10       11       12\n",
      "Baris_10        9       10       11       12       13\n"
     ]
    }
   ],
   "source": [
    "import pandas as pd\n",
    "\n",
    "# Inisialisasi list yang akan digunakan untuk menyimpan baris\n",
    "rows = []\n",
    "\n",
    "# Jumlah baris dan kolom yang ingin Anda tambahkan\n",
    "n_rows = 10  # Ganti dengan jumlah baris yang Anda inginkan\n",
    "n_cols = 5   # Ganti dengan jumlah kolom yang Anda inginkan\n",
    "\n",
    "for i in range(n_rows):\n",
    "    row_data = []\n",
    "    for j in range(n_cols):\n",
    "        # Misalnya, isi setiap sel dengan nilai i + j\n",
    "        value = i + j\n",
    "        row_data.append(value)\n",
    "    \n",
    "    # Menambahkan satu baris ke list\n",
    "    rows.append(row_data)\n",
    "\n",
    "# Membuat DataFrame dari list baris\n",
    "df = pd.DataFrame(rows)\n",
    "\n",
    "# Memberi nama kolom baru\n",
    "df.columns = [f'Kolom_{j+1}' for j in range(n_cols)]\n",
    "\n",
    "# Menyertakan indeks (opsional)\n",
    "df.index = [f'Baris_{i+1}' for i in range(n_rows)]\n",
    "\n",
    "print(df)\n"
   ]
  }
 ],
 "metadata": {
  "kernelspec": {
   "display_name": "Python 3",
   "language": "python",
   "name": "python3"
  },
  "language_info": {
   "codemirror_mode": {
    "name": "ipython",
    "version": 3
   },
   "file_extension": ".py",
   "mimetype": "text/x-python",
   "name": "python",
   "nbconvert_exporter": "python",
   "pygments_lexer": "ipython3",
   "version": "3.9.2"
  }
 },
 "nbformat": 4,
 "nbformat_minor": 2
}
